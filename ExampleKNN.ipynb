{
 "cells": [
  {
   "cell_type": "code",
   "execution_count": 1,
   "metadata": {
    "id": "Q8_-PplThTtF"
   },
   "outputs": [],
   "source": [
    "import pandas as pd\n",
    "import numpy as np\n",
    "import math\n",
    "import time\n",
    "import seaborn as sns"
   ]
  },
  {
   "cell_type": "code",
   "execution_count": 2,
   "metadata": {
    "id": "zB0dXMbshy3V"
   },
   "outputs": [],
   "source": [
    "df = pd.read_csv(\"CleanedTitanic.csv\")\n",
    "df.drop(['Unnamed: 0'], inplace=True, axis=1)"
   ]
  },
  {
   "cell_type": "code",
   "execution_count": 3,
   "metadata": {
    "id": "rno1l9Dch_Iw"
   },
   "outputs": [],
   "source": [
    "# Test/Train Split\n",
    "length = len(df.index)\n",
    "splitPoint = int(length * 0.7)\n",
    "train = df[0:splitPoint]\n",
    "test = df[splitPoint:length]"
   ]
  },
  {
   "cell_type": "markdown",
   "metadata": {
    "id": "5uec-cTM_5GY"
   },
   "source": [
    "# K-NN Algorithm"
   ]
  },
  {
   "cell_type": "code",
   "execution_count": 4,
   "metadata": {
    "id": "85Yn6DjkiTpz"
   },
   "outputs": [],
   "source": [
    "# K-NN Training Algorithm\n",
    "def trainKNN(df, iterations):\n",
    "  '''\n",
    "  Pseudocode Algorithm\n",
    "  1. Set K to 3 because this is the first odd value greater than the number of categories in the Titanic dataset.\n",
    "  2. Create an empty list to collect accuracy values during training.\n",
    "  2. Segment the training dataset into three equal parts: \n",
    "    - Segment 1: Class 1 labels\n",
    "    - Segment 2: Class 2 labels\n",
    "    - Segment 3: Remaining data of \"unknown\" labels \n",
    "  3. Calculate the euclidean distance between each data point in segment 3 with all data in segment 1 and segment 2. \n",
    "  4. Take the top K smallest distances to determine the label of the \"unknown\" data point.\n",
    "  5. Append 0 to accuracy list if the label does not match the actual label. Append 1 to accuracy list if the label does match the actual label.\n",
    "  6. Calculate the overall accuracy percent of the K value and append it to a dictionary of k, accuracy values.\n",
    "  7. Add 2 to K and repeat steps 3 - 6 for a desired number of iterations.\n",
    "  '''\n",
    "  # Set initial value of k\n",
    "  k = 3\n",
    "\n",
    "  # Segment training data into 3 segments.\n",
    "  class1, class2, unknowns = getSegments(df)\n",
    "  \n",
    "  # Calculate accuracy of K values for desired iterations\n",
    "  count = 0\n",
    "  accuracies = {}\n",
    "  t0 = time.time() # for measuring how long it takes to compute\n",
    "  t0_k = k\n",
    "  while count < iterations:\n",
    "    if count % 10 == 0:\n",
    "      elapsed = time.time() - t0\n",
    "      t0 = time.time()\n",
    "      print(f\"Took {elapsed:.2f} seconds to compute {t0_k}<=k<{k}\")\n",
    "      t0_k = k\n",
    "    # Calculate percent accuracy for current k\n",
    "    accuracy_at_k = calculateAccuracy(class1, class2, unknowns, k)\n",
    "    accuracies[k] = accuracy_at_k\n",
    "    k = k + 2\n",
    "    count = count + 1\n",
    "  \n",
    "  return accuracies"
   ]
  },
  {
   "cell_type": "markdown",
   "metadata": {
    "id": "_NE-ezlK_7lw"
   },
   "source": [
    "# Helper Functions"
   ]
  },
  {
   "cell_type": "code",
   "execution_count": 5,
   "metadata": {
    "id": "1u0juJM8lnPU"
   },
   "outputs": [],
   "source": [
    "def getSegments(df):\n",
    "  # Segment training data into 3 segments. If not divisible by 3, add extra data to unknown segment.\n",
    "  length = len(df.index)\n",
    "  splitPoint = int(length/3)\n",
    "  survived = df[df.Survived == 1]\n",
    "  died = df[df.Survived == 0]\n",
    "  survived_df = survived.iloc[:splitPoint]\n",
    "  died_df = died.iloc[:splitPoint]\n",
    "  leftover = pd.concat([survived.iloc[splitPoint:], died.iloc[splitPoint:]])\n",
    "  survived.reset_index(inplace=True, drop=True)\n",
    "  died.reset_index(inplace=True, drop=True)\n",
    "  leftover.reset_index(inplace=True, drop=True)\n",
    "  return survived_df, died_df, leftover"
   ]
  },
  {
   "cell_type": "code",
   "execution_count": 6,
   "metadata": {
    "id": "fSnaE0R7nUU0"
   },
   "outputs": [],
   "source": [
    "cache = {}\n",
    "def calculateAccuracy(class1, class2, unknowns, k):\n",
    "  known = pd.concat([class1, class2], axis=0)\n",
    "  unknown_prediction_correct = []\n",
    "  for idx in unknowns.index:\n",
    "    if not idx in cache:\n",
    "      cache[idx] = known.apply(lambda x: euclidianDistance(x, unknowns.iloc[idx]), axis=1)\n",
    "    known['distance_to_unknown'] = cache[idx]\n",
    "    top_k = known.sort_values('distance_to_unknown',ascending=True).head(k)\n",
    "    predicted_class = top_k.value_counts(ascending=False, subset='Survived').index[0] # TODO: double check this line\n",
    "    unknown_prediction_correct.append(1 if predicted_class == unknowns.iloc[idx].Survived else 0)\n",
    "    known.pop('distance_to_unknown') # remove this so we don't use it in future distance calculations\n",
    "  return sum(unknown_prediction_correct) / len(unknown_prediction_correct)"
   ]
  },
  {
   "cell_type": "code",
   "execution_count": 7,
   "metadata": {
    "id": "X6RKrb2zyS_J"
   },
   "outputs": [],
   "source": [
    "def euclidianDistance(row1, row2):\n",
    "  sum = 0\n",
    "  for (i, j) in zip(row1[1:10], row2[1:10]):\n",
    "    diffSQ = (i - j) **2\n",
    "    sum = sum + diffSQ\n",
    "  return math.sqrt(sum)"
   ]
  },
  {
   "cell_type": "markdown",
   "metadata": {
    "id": "M17kEKhL_-YL"
   },
   "source": [
    "# Result of calling trainKNN"
   ]
  },
  {
   "cell_type": "code",
   "execution_count": 8,
   "metadata": {
    "colab": {
     "base_uri": "https://localhost:8080/"
    },
    "id": "O0RHWEuUneMw",
    "outputId": "8a363974-ed32-4255-8fd3-5f697b60d61c"
   },
   "outputs": [
    {
     "name": "stdout",
     "output_type": "stream",
     "text": [
      "Took 0.00 seconds to compute 3<=k<3\n",
      "Took 22.39 seconds to compute 3<=k<23\n",
      "Took 5.03 seconds to compute 23<=k<43\n",
      "Took 5.03 seconds to compute 43<=k<63\n",
      "Took 5.00 seconds to compute 63<=k<83\n",
      "Took 5.08 seconds to compute 83<=k<103\n",
      "Took 4.96 seconds to compute 103<=k<123\n",
      "Took 5.09 seconds to compute 123<=k<143\n",
      "Took 3.65 seconds to compute 143<=k<163\n",
      "Took 4.59 seconds to compute 163<=k<183\n"
     ]
    }
   ],
   "source": [
    "performance = trainKNN(train, 100)"
   ]
  },
  {
   "cell_type": "code",
   "execution_count": 9,
   "metadata": {
    "colab": {
     "base_uri": "https://localhost:8080/"
    },
    "id": "Y_Z2-pyEADIC",
    "outputId": "a97750ed-1ab3-4740-8b64-deea1605e958"
   },
   "outputs": [
    {
     "name": "stdout",
     "output_type": "stream",
     "text": [
      "{3: 0.7951807228915663, 5: 0.7771084337349398, 7: 0.8072289156626506, 9: 0.8072289156626506, 11: 0.8132530120481928, 13: 0.8072289156626506, 15: 0.8012048192771084, 17: 0.8072289156626506, 19: 0.7831325301204819, 21: 0.7831325301204819, 23: 0.7771084337349398, 25: 0.7891566265060241, 27: 0.7771084337349398, 29: 0.7771084337349398, 31: 0.7831325301204819, 33: 0.7831325301204819, 35: 0.7650602409638554, 37: 0.7650602409638554, 39: 0.7650602409638554, 41: 0.7650602409638554, 43: 0.7650602409638554, 45: 0.7710843373493976, 47: 0.7710843373493976, 49: 0.7831325301204819, 51: 0.7831325301204819, 53: 0.7891566265060241, 55: 0.7831325301204819, 57: 0.7891566265060241, 59: 0.7951807228915663, 61: 0.7831325301204819, 63: 0.7831325301204819, 65: 0.7771084337349398, 67: 0.7891566265060241, 69: 0.7831325301204819, 71: 0.7831325301204819, 73: 0.7891566265060241, 75: 0.7951807228915663, 77: 0.8012048192771084, 79: 0.8012048192771084, 81: 0.8012048192771084, 83: 0.8072289156626506, 85: 0.8072289156626506, 87: 0.8072289156626506, 89: 0.8012048192771084, 91: 0.8072289156626506, 93: 0.8132530120481928, 95: 0.8132530120481928, 97: 0.8373493975903614, 99: 0.8433734939759037, 101: 0.8433734939759037, 103: 0.8433734939759037, 105: 0.8433734939759037, 107: 0.8493975903614458, 109: 0.8614457831325302, 111: 0.8554216867469879, 113: 0.8493975903614458, 115: 0.8433734939759037, 117: 0.8433734939759037, 119: 0.8433734939759037, 121: 0.8433734939759037, 123: 0.8493975903614458, 125: 0.8493975903614458, 127: 0.8433734939759037, 129: 0.8493975903614458, 131: 0.8433734939759037, 133: 0.8433734939759037, 135: 0.8554216867469879, 137: 0.8493975903614458, 139: 0.8493975903614458, 141: 0.8313253012048193, 143: 0.8132530120481928, 145: 0.8192771084337349, 147: 0.8072289156626506, 149: 0.8072289156626506, 151: 0.8072289156626506, 153: 0.8012048192771084, 155: 0.7951807228915663, 157: 0.7771084337349398, 159: 0.7771084337349398, 161: 0.7771084337349398, 163: 0.7771084337349398, 165: 0.7710843373493976, 167: 0.7771084337349398, 169: 0.7650602409638554, 171: 0.7590361445783133, 173: 0.7590361445783133, 175: 0.7590361445783133, 177: 0.7530120481927711, 179: 0.7530120481927711, 181: 0.7530120481927711, 183: 0.7530120481927711, 185: 0.7469879518072289, 187: 0.7469879518072289, 189: 0.7469879518072289, 191: 0.7469879518072289, 193: 0.7469879518072289, 195: 0.7469879518072289, 197: 0.7469879518072289, 199: 0.7469879518072289, 201: 0.7469879518072289}\n"
     ]
    }
   ],
   "source": [
    "print(performance)"
   ]
  },
  {
   "cell_type": "markdown",
   "metadata": {
    "id": "XJgRQUiID63I"
   },
   "source": [
    "# Visualizing K Accuracy"
   ]
  },
  {
   "cell_type": "code",
   "execution_count": 10,
   "metadata": {
    "colab": {
     "base_uri": "https://localhost:8080/",
     "height": 206
    },
    "id": "u_FF_ciOBLYj",
    "outputId": "94bb64ea-e4be-4740-a560-8ede04ab9bdb"
   },
   "outputs": [
    {
     "data": {
      "text/html": [
       "<div>\n",
       "<style scoped>\n",
       "    .dataframe tbody tr th:only-of-type {\n",
       "        vertical-align: middle;\n",
       "    }\n",
       "\n",
       "    .dataframe tbody tr th {\n",
       "        vertical-align: top;\n",
       "    }\n",
       "\n",
       "    .dataframe thead th {\n",
       "        text-align: right;\n",
       "    }\n",
       "</style>\n",
       "<table border=\"1\" class=\"dataframe\">\n",
       "  <thead>\n",
       "    <tr style=\"text-align: right;\">\n",
       "      <th></th>\n",
       "      <th>k</th>\n",
       "      <th>accuracy</th>\n",
       "    </tr>\n",
       "  </thead>\n",
       "  <tbody>\n",
       "    <tr>\n",
       "      <th>0</th>\n",
       "      <td>3</td>\n",
       "      <td>0.795181</td>\n",
       "    </tr>\n",
       "    <tr>\n",
       "      <th>1</th>\n",
       "      <td>5</td>\n",
       "      <td>0.777108</td>\n",
       "    </tr>\n",
       "    <tr>\n",
       "      <th>2</th>\n",
       "      <td>7</td>\n",
       "      <td>0.807229</td>\n",
       "    </tr>\n",
       "    <tr>\n",
       "      <th>3</th>\n",
       "      <td>9</td>\n",
       "      <td>0.807229</td>\n",
       "    </tr>\n",
       "    <tr>\n",
       "      <th>4</th>\n",
       "      <td>11</td>\n",
       "      <td>0.813253</td>\n",
       "    </tr>\n",
       "  </tbody>\n",
       "</table>\n",
       "</div>"
      ],
      "text/plain": [
       "    k  accuracy\n",
       "0   3  0.795181\n",
       "1   5  0.777108\n",
       "2   7  0.807229\n",
       "3   9  0.807229\n",
       "4  11  0.813253"
      ]
     },
     "execution_count": 10,
     "metadata": {},
     "output_type": "execute_result"
    }
   ],
   "source": [
    "kacc = pd.DataFrame({\n",
    "    \"k\": list(sorted(performance.keys())),\n",
    "    \"accuracy\": [performance[k] for k in sorted(performance.keys())]\n",
    "})\n",
    "kacc.head()"
   ]
  },
  {
   "cell_type": "code",
   "execution_count": 11,
   "metadata": {
    "colab": {
     "base_uri": "https://localhost:8080/",
     "height": 297
    },
    "id": "VRWQIMGzqN0P",
    "outputId": "3b1e484a-0f1d-4952-808a-461bee82d702"
   },
   "outputs": [
    {
     "data": {
      "text/plain": [
       "<AxesSubplot:xlabel='k', ylabel='accuracy'>"
      ]
     },
     "execution_count": 11,
     "metadata": {},
     "output_type": "execute_result"
    },
    {
     "data": {
      "image/png": "[encoded data removed]",
      "text/plain": [
       "<Figure size 640x480 with 1 Axes>"
      ]
     },
     "metadata": {},
     "output_type": "display_data"
    }
   ],
   "source": [
    "sns.lineplot(x=kacc.k, y=kacc.accuracy)"
   ]
  },
  {
   "cell_type": "code",
   "execution_count": null,
   "metadata": {},
   "outputs": [],
   "source": []
  },
  {
   "cell_type": "code",
   "execution_count": null,
   "metadata": {},
   "outputs": [],
   "source": []
  },
  {
   "cell_type": "code",
   "execution_count": null,
   "metadata": {},
   "outputs": [],
   "source": []
  },
  {
   "cell_type": "code",
   "execution_count": null,
   "metadata": {},
   "outputs": [],
   "source": []
  }
 ],
 "metadata": {
  "colab": {
   "provenance": []
  },
  "kernelspec": {
   "display_name": "Python 3 (ipykernel)",
   "language": "python",
   "name": "python3"
  },
  "language_info": {
   "codemirror_mode": {
    "name": "ipython",
    "version": 3
   },
   "file_extension": ".py",
   "mimetype": "text/x-python",
   "name": "python",
   "nbconvert_exporter": "python",
   "pygments_lexer": "ipython3",
   "version": "3.9.13"
  }
 },
 "nbformat": 4,
 "nbformat_minor": 1
}
