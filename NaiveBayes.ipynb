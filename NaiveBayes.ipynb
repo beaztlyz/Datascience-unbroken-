{
 "cells": [
  {
   "cell_type": "code",
   "execution_count": 32,
   "id": "66f4a160",
   "metadata": {},
   "outputs": [],
   "source": [
    "import pandas as pd \n",
    "from sklearn.naive_bayes import GaussianNB\n",
    "from sklearn.datasets import load_svmlight_file"
   ]
  },
  {
   "cell_type": "code",
   "execution_count": 33,
   "id": "973d4567",
   "metadata": {},
   "outputs": [
    {
     "ename": "NameError",
     "evalue": "name 'x' is not defined",
     "output_type": "error",
     "traceback": [
      "\u001b[1;31m---------------------------------------------------------------------------\u001b[0m",
      "\u001b[1;31mNameError\u001b[0m                                 Traceback (most recent call last)",
      "\u001b[1;32m~\\AppData\\Local\\Temp\\ipykernel_14272\\3764036828.py\u001b[0m in \u001b[0;36m<module>\u001b[1;34m\u001b[0m\n\u001b[0;32m      1\u001b[0m \u001b[0mdf\u001b[0m \u001b[1;33m=\u001b[0m \u001b[0mpd\u001b[0m\u001b[1;33m.\u001b[0m\u001b[0mread_csv\u001b[0m\u001b[1;33m(\u001b[0m\u001b[1;34m'stopwords.txt'\u001b[0m\u001b[1;33m,\u001b[0m \u001b[0msep\u001b[0m\u001b[1;33m=\u001b[0m\u001b[1;34m' '\u001b[0m\u001b[1;33m,\u001b[0m \u001b[0mheader\u001b[0m\u001b[1;33m=\u001b[0m\u001b[1;32mNone\u001b[0m\u001b[1;33m)\u001b[0m\u001b[1;31m# names=[“Column1”, “Column2”]\u001b[0m\u001b[1;33m\u001b[0m\u001b[1;33m\u001b[0m\u001b[0m\n\u001b[0;32m      2\u001b[0m \u001b[0mgnb\u001b[0m \u001b[1;33m=\u001b[0m \u001b[0mGaussianNB\u001b[0m\u001b[1;33m(\u001b[0m\u001b[1;33m)\u001b[0m\u001b[1;33m\u001b[0m\u001b[1;33m\u001b[0m\u001b[0m\n\u001b[1;32m----> 3\u001b[1;33m \u001b[0mgnb\u001b[0m\u001b[1;33m.\u001b[0m\u001b[0mfit\u001b[0m\u001b[1;33m(\u001b[0m\u001b[0mx\u001b[0m\u001b[1;33m,\u001b[0m \u001b[0my\u001b[0m\u001b[1;33m)\u001b[0m \u001b[1;31m#compare stopwords and spam\u001b[0m\u001b[1;33m\u001b[0m\u001b[1;33m\u001b[0m\u001b[0m\n\u001b[0m",
      "\u001b[1;31mNameError\u001b[0m: name 'x' is not defined"
     ]
    }
   ],
   "source": [
    "\n",
    "df = pd.read_csv('stopwords.txt', sep=' ', header=None)# names=[“Column1”, “Column2”]\n",
    "gnb = GaussianNB()\n",
    "gnb.fit(x, y) #compare stopwords and spam \n"
   ]
  },
  {
   "cell_type": "code",
   "execution_count": 34,
   "id": "a7e039b0",
   "metadata": {},
   "outputs": [],
   "source": [
    "def convert():\n",
    "    df.upper()"
   ]
  },
  {
   "cell_type": "code",
   "execution_count": null,
   "id": "acf1cf17",
   "metadata": {},
   "outputs": [],
   "source": []
  },
  {
   "cell_type": "code",
   "execution_count": 35,
   "id": "b766359c",
   "metadata": {},
   "outputs": [],
   "source": [
    "def alphabet():\n",
    "    alphabet = {\"A\" : 1, \"B\" : 2, \"C\" : 3, \"D\" : 4, } "
   ]
  },
  {
   "cell_type": "code",
   "execution_count": 36,
   "id": "df57ce07",
   "metadata": {},
   "outputs": [],
   "source": [
    "def contains(): # drop words that does not contain stop words\n",
    "    for i in range(0,df):\n",
    "        if df not in df2:\n",
    "            df.dropna(axis=0, inplace= True)  \n",
    "            print(df)"
   ]
  },
  {
   "cell_type": "code",
   "execution_count": 38,
   "id": "56b47f5c",
   "metadata": {},
   "outputs": [],
   "source": [
    "def thsh():\n",
    "    for i in range(0, df): #to get the words we need to add up \n",
    "        i = a\n",
    "        df.append(list)\n",
    "        \n",
    "    # to find the top 5 words count the number of numbers but it will be in string "
   ]
  },
  {
   "cell_type": "code",
   "execution_count": null,
   "id": "2daecc4e",
   "metadata": {},
   "outputs": [],
   "source": []
  },
  {
   "cell_type": "code",
   "execution_count": null,
   "id": "5b9907b0",
   "metadata": {},
   "outputs": [],
   "source": []
  }
 ],
 "metadata": {
  "kernelspec": {
   "display_name": "Python 3 (ipykernel)",
   "language": "python",
   "name": "python3"
  },
  "language_info": {
   "codemirror_mode": {
    "name": "ipython",
    "version": 3
   },
   "file_extension": ".py",
   "mimetype": "text/x-python",
   "name": "python",
   "nbconvert_exporter": "python",
   "pygments_lexer": "ipython3",
   "version": "3.9.13"
  }
 },
 "nbformat": 4,
 "nbformat_minor": 5
}
