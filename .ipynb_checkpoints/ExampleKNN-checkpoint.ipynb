{
 "cells": [
  {
   "cell_type": "code",
   "execution_count": null,
   "metadata": {
    "id": "Q8_-PplThTtF"
   },
   "outputs": [],
   "source": [
    "import pandas as pd\n",
    "import numpy as np\n",
    "import math\n",
    "import time\n",
    "import seaborn as sns"
   ]
  },
  {
   "cell_type": "code",
   "execution_count": null,
   "metadata": {
    "id": "zB0dXMbshy3V"
   },
   "outputs": [],
   "source": [
    "df = pd.read_csv(\"CleanedTitanic.csv\")\n",
    "df.drop(['Unnamed: 0'], inplace=True, axis=1)"
   ]
  },
  {
   "cell_type": "code",
   "execution_count": null,
   "metadata": {
    "id": "rno1l9Dch_Iw"
   },
   "outputs": [],
   "source": [
    "# Test/Train Split\n",
    "length = len(df.index)\n",
    "splitPoint = int(length * 0.7)\n",
    "train = df[0:splitPoint]\n",
    "test = df[splitPoint:length]"
   ]
  },
  {
   "cell_type": "markdown",
   "metadata": {
    "id": "5uec-cTM_5GY"
   },
   "source": [
    "# K-NN Algorithm"
   ]
  },
  {
   "cell_type": "code",
   "execution_count": null,
   "metadata": {
    "id": "85Yn6DjkiTpz"
   },
   "outputs": [],
   "source": [
    "# K-NN Training Algorithm\n",
    "def trainKNN(df, iterations):\n",
    "  '''\n",
    "  Pseudocode Algorithm\n",
    "  1. Set K to 3 because this is the first odd value greater than the number of categories in the Titanic dataset.\n",
    "  2. Create an empty list to collect accuracy values during training.\n",
    "  2. Segment the training dataset into three equal parts: \n",
    "    - Segment 1: Class 1 labels\n",
    "    - Segment 2: Class 2 labels\n",
    "    - Segment 3: Remaining data of \"unknown\" labels \n",
    "  3. Calculate the euclidean distance between each data point in segment 3 with all data in segment 1 and segment 2. \n",
    "  4. Take the top K smallest distances to determine the label of the \"unknown\" data point.\n",
    "  5. Append 0 to accuracy list if the label does not match the actual label. Append 1 to accuracy list if the label does match the actual label.\n",
    "  6. Calculate the overall accuracy percent of the K value and append it to a dictionary of k, accuracy values.\n",
    "  7. Add 2 to K and repeat steps 3 - 6 for a desired number of iterations.\n",
    "  '''\n",
    "  # Set initial value of k\n",
    "  k = 3\n",
    "\n",
    "  # Segment training data into 3 segments.\n",
    "  class1, class2, unknowns = getSegments(df)\n",
    "  \n",
    "  # Calculate accuracy of K values for desired iterations\n",
    "  count = 0\n",
    "  accuracies = {}\n",
    "  t0 = time.time() # for measuring how long it takes to compute\n",
    "  t0_k = k\n",
    "  while count < iterations:\n",
    "    if count % 10 == 0:\n",
    "      elapsed = time.time() - t0\n",
    "      t0 = time.time()\n",
    "      print(f\"Took {elapsed:.2f} seconds to compute {t0_k}<=k<{k}\")\n",
    "      t0_k = k\n",
    "    # Calculate percent accuracy for current k\n",
    "    accuracy_at_k = calculateAccuracy(class1, class2, unknowns, k)\n",
    "    accuracies[k] = accuracy_at_k\n",
    "    k = k + 2\n",
    "    count = count + 1\n",
    "  \n",
    "  return accuracies"
   ]
  },
  {
   "cell_type": "markdown",
   "metadata": {
    "id": "_NE-ezlK_7lw"
   },
   "source": [
    "# Helper Functions"
   ]
  },
  {
   "cell_type": "code",
   "execution_count": null,
   "metadata": {
    "id": "1u0juJM8lnPU"
   },
   "outputs": [],
   "source": [
    "def getSegments(df):\n",
    "  # Segment training data into 3 segments. If not divisible by 3, add extra data to unknown segment.\n",
    "  length = len(df.index)\n",
    "  splitPoint = int(length/3)\n",
    "  survived = df[df.Survived == 1]\n",
    "  died = df[df.Survived == 0]\n",
    "  survived_df = survived.iloc[:splitPoint]\n",
    "  died_df = died.iloc[:splitPoint]\n",
    "  leftover = pd.concat([survived.iloc[splitPoint:], died.iloc[splitPoint:]])\n",
    "  survived.reset_index(inplace=True, drop=True)\n",
    "  died.reset_index(inplace=True, drop=True)\n",
    "  leftover.reset_index(inplace=True, drop=True)\n",
    "  return survived_df, died_df, leftover"
   ]
  },
  {
   "cell_type": "code",
   "execution_count": null,
   "metadata": {
    "id": "fSnaE0R7nUU0"
   },
   "outputs": [],
   "source": [
    "cache = {}\n",
    "def calculateAccuracy(class1, class2, unknowns, k):\n",
    "  known = pd.concat([class1, class2], axis=0)\n",
    "  unknown_prediction_correct = []\n",
    "  for idx in unknowns.index:\n",
    "    if not idx in cache:\n",
    "      cache[idx] = known.apply(lambda x: euclidianDistance(x, unknowns.iloc[idx]), axis=1)\n",
    "    known['distance_to_unknown'] = cache[idx]\n",
    "    top_k = known.sort_values('distance_to_unknown',ascending=True).head(k)\n",
    "    predicted_class = top_k.value_counts(ascending=False, subset='Survived').index[0] # TODO: double check this line\n",
    "    unknown_prediction_correct.append(1 if predicted_class == unknowns.iloc[idx].Survived else 0)\n",
    "    known.pop('distance_to_unknown') # remove this so we don't use it in future distance calculations\n",
    "  return sum(unknown_prediction_correct) / len(unknown_prediction_correct)"
   ]
  },
  {
   "cell_type": "code",
   "execution_count": null,
   "metadata": {
    "id": "X6RKrb2zyS_J"
   },
   "outputs": [],
   "source": [
    "def euclidianDistance(row1, row2):\n",
    "  sum = 0\n",
    "  for (i, j) in zip(row1[1:10], row2[1:10]):\n",
    "    diffSQ = (i - j) **2\n",
    "    sum = sum + diffSQ\n",
    "  return math.sqrt(sum)"
   ]
  },
  {
   "cell_type": "markdown",
   "metadata": {
    "id": "M17kEKhL_-YL"
   },
   "source": [
    "# Result of calling trainKNN"
   ]
  },
  {
   "cell_type": "code",
   "execution_count": null,
   "metadata": {
    "colab": {
     "base_uri": "https://localhost:8080/"
    },
    "id": "O0RHWEuUneMw",
    "outputId": "8a363974-ed32-4255-8fd3-5f697b60d61c"
   },
   "outputs": [],
   "source": [
    "performance = trainKNN(train, 100)"
   ]
  },
  {
   "cell_type": "code",
   "execution_count": null,
   "metadata": {
    "colab": {
     "base_uri": "https://localhost:8080/"
    },
    "id": "Y_Z2-pyEADIC",
    "outputId": "a97750ed-1ab3-4740-8b64-deea1605e958"
   },
   "outputs": [],
   "source": [
    "print(performance)"
   ]
  },
  {
   "cell_type": "markdown",
   "metadata": {
    "id": "XJgRQUiID63I"
   },
   "source": [
    "# Visualizing K Accuracy"
   ]
  },
  {
   "cell_type": "code",
   "execution_count": null,
   "metadata": {
    "colab": {
     "base_uri": "https://localhost:8080/",
     "height": 206
    },
    "id": "u_FF_ciOBLYj",
    "outputId": "94bb64ea-e4be-4740-a560-8ede04ab9bdb"
   },
   "outputs": [],
   "source": [
    "kacc = pd.DataFrame({\n",
    "    \"k\": list(sorted(performance.keys())),\n",
    "    \"accuracy\": [performance[k] for k in sorted(performance.keys())]\n",
    "})\n",
    "kacc.head()"
   ]
  },
  {
   "cell_type": "code",
   "execution_count": null,
   "metadata": {
    "colab": {
     "base_uri": "https://localhost:8080/",
     "height": 297
    },
    "id": "VRWQIMGzqN0P",
    "outputId": "3b1e484a-0f1d-4952-808a-461bee82d702"
   },
   "outputs": [],
   "source": [
    "sns.lineplot(x=kacc.k, y=kacc.accuracy)"
   ]
  },
  {
   "cell_type": "code",
   "execution_count": null,
   "metadata": {},
   "outputs": [],
   "source": []
  }
 ],
 "metadata": {
  "colab": {
   "provenance": []
  },
  "kernelspec": {
   "display_name": "Python 3 (ipykernel)",
   "language": "python",
   "name": "python3"
  },
  "language_info": {
   "codemirror_mode": {
    "name": "ipython",
    "version": 3
   },
   "file_extension": ".py",
   "mimetype": "text/x-python",
   "name": "python",
   "nbconvert_exporter": "python",
   "pygments_lexer": "ipython3",
   "version": "3.9.13"
  }
 },
 "nbformat": 4,
 "nbformat_minor": 1
}
