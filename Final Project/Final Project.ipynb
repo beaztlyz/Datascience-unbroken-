{
 "cells": [
  {
   "cell_type": "code",
   "execution_count": null,
   "id": "e25c6750",
   "metadata": {},
   "outputs": [],
   "source": [
    "import pandas as pd\n",
    "import seaborn as sns"
   ]
  },
  {
   "cell_type": "code",
   "execution_count": null,
   "id": "6bebb28d",
   "metadata": {},
   "outputs": [],
   "source": [
    "df = pd.read_csv(\"games.csv\")\n",
    "df"
   ]
  },
  {
   "cell_type": "code",
   "execution_count": null,
   "id": "d09574b9",
   "metadata": {},
   "outputs": [],
   "source": [
    "df.dropna(axis = 0, inplace = True)"
   ]
  },
  {
   "cell_type": "code",
   "execution_count": null,
   "id": "f68681ab",
   "metadata": {},
   "outputs": [],
   "source": [
    "sns.heatmap(df, vmin=, vmax=)"
   ]
  },
  {
   "cell_type": "code",
   "execution_count": null,
   "id": "1e5bef8c",
   "metadata": {},
   "outputs": [],
   "source": [
    "for i in range(0, len(df.index)):\n",
    "    moves = df.iat[i+1, 12]\n",
    "    movesList = []\n",
    "    movesList.append(moves)\n",
    "    print(movesList)"
   ]
  },
  {
   "cell_type": "code",
   "execution_count": null,
   "id": "0af61287",
   "metadata": {},
   "outputs": [],
   "source": [
    "def gameBoard(): \n",
    "    for i in range(8, 0, - 1):\n",
    "        print(\"x \")\n",
    "        for j in range(8, 0, -1):\n",
    "            print(\"x \", end = '')\n",
    "   \n",
    "        print(\"placeholder\")\n",
    "gameBoard()"
   ]
  },
  {
   "cell_type": "code",
   "execution_count": null,
   "id": "0d1ebacb",
   "metadata": {},
   "outputs": [],
   "source": []
  },
  {
   "cell_type": "code",
   "execution_count": 75,
   "id": "0f3c594f",
   "metadata": {},
   "outputs": [
    {
     "ename": "SyntaxError",
     "evalue": "invalid syntax (2084209129.py, line 3)",
     "output_type": "error",
     "traceback": [
      "\u001b[1;36m  File \u001b[1;32m\"C:\\Users\\achen12\\AppData\\Local\\Temp\\ipykernel_18484\\2084209129.py\"\u001b[1;36m, line \u001b[1;32m3\u001b[0m\n\u001b[1;33m    lst = [][]\u001b[0m\n\u001b[1;37m             ^\u001b[0m\n\u001b[1;31mSyntaxError\u001b[0m\u001b[1;31m:\u001b[0m invalid syntax\n"
     ]
    }
   ],
   "source": [
    "for i in range(8, 0):\n",
    "    for j in range(8,0):\n",
    "        lst = [][]\n",
    "        print(list[i][j])"
   ]
  },
  {
   "cell_type": "code",
   "execution_count": null,
   "id": "b7bbb981",
   "metadata": {},
   "outputs": [],
   "source": []
  }
 ],
 "metadata": {
  "kernelspec": {
   "display_name": "Python 3 (ipykernel)",
   "language": "python",
   "name": "python3"
  },
  "language_info": {
   "codemirror_mode": {
    "name": "ipython",
    "version": 3
   },
   "file_extension": ".py",
   "mimetype": "text/x-python",
   "name": "python",
   "nbconvert_exporter": "python",
   "pygments_lexer": "ipython3",
   "version": "3.10.9"
  }
 },
 "nbformat": 4,
 "nbformat_minor": 5
}
